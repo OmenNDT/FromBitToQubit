{
 "cells": [
  {
   "cell_type": "markdown",
   "metadata": {},
   "source": [
    "# Circuit Basics \n",
    "\n",
    "Here, we provide an overview of working with Qiskit.  Qiskit provides the basic building blocks necessary to program quantum computers. The fundamental unit of Qiskit is the [quantum circuit](https://en.wikipedia.org/wiki/Quantum_circuit). A basic workflow using Qiskit consists of two stages: **Build** and **Run**. **Build** allows you to make different quantum circuits that represent the problem you are solving, and **Run** that allows you to run them on different backends.  After the jobs have been run, the data is collected and postprocessed depending on the desired output."
   ]
  },
  {
   "cell_type": "code",
   "execution_count": 1,
   "metadata": {
    "ExecuteTime": {
     "end_time": "2019-08-10T11:37:44.387267Z",
     "start_time": "2019-08-10T11:37:41.934365Z"
    }
   },
   "outputs": [],
   "source": [
    "import numpy as np\n",
    "from qiskit import QuantumCircuit\n",
    "\n"
   ]
  },
  {
   "cell_type": "markdown",
   "metadata": {},
   "source": [
    "## Building the circuit <a name='basics'></a>\n",
    "\n",
    "The basic element needed for your first program is the QuantumCircuit.  We begin by creating a `QuantumCircuit` comprised of three qubits."
   ]
  },
  {
   "cell_type": "code",
   "execution_count": 2,
   "metadata": {
    "ExecuteTime": {
     "end_time": "2019-08-10T11:37:44.392806Z",
     "start_time": "2019-08-10T11:37:44.389673Z"
    }
   },
   "outputs": [],
   "source": [
    "# Create a Quantum Circuit acting on a quantum register of three qubits\n",
    "# Tạo một mạch lượng tử hoạt động trên một thanh ghi lượng tử gồm ba qubit\n",
    "circ = QuantumCircuit(3)"
   ]
  },
  {
   "cell_type": "markdown",
   "metadata": {},
   "source": [
    "After you create the circuit with its registers, you can add gates (\"operations\") to manipulate the registers. As you proceed through the tutorials you will find more gates and circuits; below is an example of a quantum circuit that makes a three-qubit GHZ state\n",
    "\n",
    "$$|\\psi\\rangle = \\left(|000\\rangle+|111\\rangle\\right)/\\sqrt{2}.$$\n",
    "\n",
    "To create such a state, we start with a three-qubit quantum register. By default, each qubit in the register is initialized to $|0\\rangle$. To make the GHZ state, we apply the following gates:\n",
    "- A Hadamard gate $H$ on qubit 0, which puts it into the superposition state $\\left(|0\\rangle+|1\\rangle\\right)/\\sqrt{2}$.\n",
    "- A Controlled-NOT operation ($C_{X}$) between qubit 0 and qubit 1.\n",
    "- A Controlled-NOT operation between qubit 0 and qubit 2.\n",
    "\n",
    "On an ideal quantum computer, the state produced by running this circuit would be the GHZ state above.\n",
    "\n",
    "In Qiskit, operations can be added to the circuit one by one, as shown below."
   ]
  },
  {
   "cell_type": "code",
   "execution_count": 3,
   "metadata": {
    "ExecuteTime": {
     "end_time": "2019-08-10T11:37:44.401502Z",
     "start_time": "2019-08-10T11:37:44.395545Z"
    }
   },
   "outputs": [
    {
     "data": {
      "text/plain": [
       "<qiskit.circuit.instructionset.InstructionSet at 0x118ac188b20>"
      ]
     },
     "execution_count": 3,
     "metadata": {},
     "output_type": "execute_result"
    }
   ],
   "source": [
    "# Add a H gate on qubit 0, putting this qubit in superposition.\n",
    "# Thêm một cổng H trên qubit 0, đưa qubit này vào trạng thái chồng chất.\n",
    "circ.h(0)\n",
    "# Add a CX (CNOT) gate on control qubit 0 and target qubit 1, putting\n",
    "# the qubits in a Bell state.\n",
    "# Thêm một cổng CX (CNOT) trên qubit điều khiển 0 và qubit mục tiêu 1,\n",
    "circ.cx(0, 1)\n",
    "# Add a CX (CNOT) gate on control qubit 0 and target qubit 2, putting\n",
    "# the qubits in a GHZ state.\n",
    "# Thêm một cổng CX (CNOT) trên qubit điều khiển 0 và qubit mục tiêu 2,\n",
    "circ.cx(0, 2)"
   ]
  },
  {
   "cell_type": "markdown",
   "metadata": {},
   "source": [
    "## Visualize Circuit <a name='visualize'></a>\n",
    "\n",
    "You can visualize your circuit using Qiskit `QuantumCircuit.draw()`, which plots the circuit in the form found in many textbooks."
   ]
  },
  {
   "cell_type": "code",
   "execution_count": 4,
   "metadata": {
    "ExecuteTime": {
     "end_time": "2019-08-10T11:37:44.762773Z",
     "start_time": "2019-08-10T11:37:44.403727Z"
    },
    "scrolled": true
   },
   "outputs": [
    {
     "data": {
      "image/png": "[encoded data removed]",
      "text/plain": [
       "<Figure size 371.107x284.278 with 1 Axes>"
      ]
     },
     "execution_count": 4,
     "metadata": {},
     "output_type": "execute_result"
    }
   ],
   "source": [
    "# Vẽ sơ đồ mạch lượng tử\n",
    "circ.draw('mpl')"
   ]
  },
  {
   "cell_type": "markdown",
   "metadata": {},
   "source": [
    "In this circuit, the qubits are put in order, with qubit zero at the top and qubit two at the bottom. The circuit is read left to right (meaning that gates that are applied earlier in the circuit show up further to the left)."
   ]
  },
  {
   "cell_type": "markdown",
   "metadata": {},
   "source": [
    "<div class=\"alert alert-block alert-info\">\n",
    "\n",
    "\n",
    "When representing the state of a multi-qubit system, the tensor order used in Qiskit is different than that used in most physics textbooks. Suppose there are $n$ qubits, and qubit $j$ is labeled as $Q_{j}$. Qiskit uses an ordering in which the $n^{\\mathrm{th}}$ qubit is on the <em><strong>left</strong></em> side of the tensor product, so that the basis vectors are labeled as  $Q_{n-1}\\otimes \\cdots  \\otimes  Q_1\\otimes Q_0$.\n",
    "\n",
    "For example, if qubit zero is in state 0, qubit 1 is in state 0, and qubit 2 is in state 1, Qiskit would represent this state as $|100\\rangle$, whereas many physics textbooks would represent it as $|001\\rangle$.\n",
    "\n",
    "This difference in labeling affects the way multi-qubit operations are represented as matrices. For example, Qiskit represents a controlled-X ($C_{X}$) operation with qubit 0 being the control and qubit 1 being the target as\n",
    "\n",
    "$$C_X = \\begin{pmatrix} 1 & 0 & 0 & 0 \\\\  0 & 0 & 0 & 1 \\\\ 0 & 0 & 1 & 0 \\\\ 0 & 1 & 0 & 0 \\\\\\end{pmatrix}.$$\n",
    "\n",
    "</div>"
   ]
  },
  {
   "cell_type": "markdown",
   "metadata": {},
   "source": [
    "## Simulating circuits <a name='simulation'></a>\n",
    "\n",
    "To simulate a circuit we use the quant_info module in Qiskit. This simulator returns the quantum state, which is a complex vector of dimensions $2^n$, where $n$ is the number of qubits \n",
    "(so be careful using this as it will quickly get too large to run on your machine).\n",
    "\n",
    "There are two stages to the simulator. The first is to set the input state and the second to evolve the state by the quantum circuit."
   ]
  },
  {
   "cell_type": "code",
   "execution_count": 5,
   "metadata": {},
   "outputs": [
    {
     "data": {
      "text/latex": [
       "$$\\frac{\\sqrt{2}}{2} |000\\rangle+\\frac{\\sqrt{2}}{2} |111\\rangle$$"
      ],
      "text/plain": [
       "<IPython.core.display.Latex object>"
      ]
     },
     "execution_count": 5,
     "metadata": {},
     "output_type": "execute_result"
    }
   ],
   "source": [
    "from qiskit.quantum_info import Statevector\n",
    "\n",
    "# Set the initial state of the simulator to the ground state using from_int\n",
    "# Đặt trạng thái ban đầu của bộ mô phỏng về trạng thái cơ bản bằng cách sử dụng from_int, 3 Qbit thì có 2^3 = 8 trạng thái\n",
    "state = Statevector.from_int(0, 2**3)\n",
    "\n",
    "# Evolve the state by the quantum circuit\n",
    "state = state.evolve(circ)\n",
    "\n",
    "#draw using latex\n",
    "state.draw('latex')"
   ]
  },
  {
   "cell_type": "code",
   "execution_count": 6,
   "metadata": {},
   "outputs": [
    {
     "data": {
      "text/latex": [
       "$$\n",
       "\n",
       "\\begin{bmatrix}\n",
       "\\frac{\\sqrt{2}}{2} & 0 & 0 & 0 & 0 & 0 & 0 & \\frac{\\sqrt{2}}{2}  \\\\\n",
       " \\end{bmatrix}\n",
       "$$"
      ],
      "text/plain": [
       "<IPython.core.display.Latex object>"
      ]
     },
     "execution_count": 6,
     "metadata": {},
     "output_type": "execute_result"
    }
   ],
   "source": [
    "from qiskit.visualization import array_to_latex\n",
    "\n",
    "#Alternative way of representing in latex\n",
    "# Cách thay thế để biểu diễn trong latex\n",
    "array_to_latex(state)"
   ]
  },
  {
   "cell_type": "markdown",
   "metadata": {},
   "source": [
    "Qiskit also provides a visualization toolbox to allow you to view the state.\n",
    "\n",
    "Below, we use the visualization function to plot the qsphere  and a hinton representing the real and imaginary components of the state density matrix $\\rho$."
   ]
  },
  {
   "cell_type": "code",
   "execution_count": 7,
   "metadata": {},
   "outputs": [
    {
     "data": {
      "image/png": "[encoded data removed]",
      "text/plain": [
       "<Figure size 700x700 with 2 Axes>"
      ]
     },
     "execution_count": 7,
     "metadata": {},
     "output_type": "execute_result"
    }
   ],
   "source": [
    "state.draw('qsphere')"
   ]
  },
  {
   "cell_type": "code",
   "execution_count": 8,
   "metadata": {},
   "outputs": [
    {
     "data": {
      "image/png": "[encoded data removed]",
      "text/plain": [
       "<Figure size 800x500 with 2 Axes>"
      ]
     },
     "execution_count": 8,
     "metadata": {},
     "output_type": "execute_result"
    }
   ],
   "source": [
    "state.draw('hinton')"
   ]
  },
  {
   "cell_type": "markdown",
   "metadata": {},
   "source": [
    "## Unitary representation of a circuit"
   ]
  },
  {
   "cell_type": "markdown",
   "metadata": {},
   "source": [
    "Qiskit's quant_info module also has an operator method which can be used to make a unitary operator for the circuit. This calculates the $2^n \\times 2^n$ matrix representing the quantum circuit. \n",
    "\n",
    "Toán tử unitary: Là biểu diễn toán học của mạch lượng tử, giữ nguyên chuẩn (norm) của vector trạng thái lượng tử khi áp dụng.\n",
    "\n",
    "Kích thước ma trận $2^n \\times 2^n$: Thể hiện tính chất mũ của không gian trạng thái lượng tử. Với mỗi qubit thêm vào, kích thước ma trận tăng gấp đôi theo cả hàng và cột.\n",
    "\n",
    "Công dụng: Ma trận này cho phép:\n",
    "\n",
    "Phân tích toán học của mạch\n",
    "\n",
    "Mô phỏng kết quả của mạch mà không cần chạy trên máy tính lượng tử thật\n",
    "\n",
    "Kiểm tra tính đúng đắn của thuật toán lượng tử\n",
    "\n",
    "Hiểu rõ cách biến đổi trạng thái lượng tử qua mạch\n",
    "\n",
    "Ma trận này đại diện cho hành động toán học tổng thể của toàn bộ mạch lượng tử, như một phép biến đổi trên không gian Hilbert."
   ]
  },
  {
   "cell_type": "code",
   "execution_count": 9,
   "metadata": {
    "ExecuteTime": {
     "end_time": "2019-08-10T11:37:45.626148Z",
     "start_time": "2019-08-10T11:37:45.607840Z"
    }
   },
   "outputs": [
    {
     "data": {
      "text/plain": [
       "array([[ 0.70710678+0.j,  0.70710678+0.j,  0.        +0.j,\n",
       "         0.        +0.j,  0.        +0.j,  0.        +0.j,\n",
       "         0.        +0.j,  0.        +0.j],\n",
       "       [ 0.        +0.j,  0.        +0.j,  0.        +0.j,\n",
       "         0.        +0.j,  0.        +0.j,  0.        +0.j,\n",
       "         0.70710678+0.j, -0.70710678+0.j],\n",
       "       [ 0.        +0.j,  0.        +0.j,  0.70710678+0.j,\n",
       "         0.70710678+0.j,  0.        +0.j,  0.        +0.j,\n",
       "         0.        +0.j,  0.        +0.j],\n",
       "       [ 0.        +0.j,  0.        +0.j,  0.        +0.j,\n",
       "         0.        +0.j,  0.70710678+0.j, -0.70710678+0.j,\n",
       "         0.        +0.j,  0.        +0.j],\n",
       "       [ 0.        +0.j,  0.        +0.j,  0.        +0.j,\n",
       "         0.        +0.j,  0.70710678+0.j,  0.70710678+0.j,\n",
       "         0.        +0.j,  0.        +0.j],\n",
       "       [ 0.        +0.j,  0.        +0.j,  0.70710678+0.j,\n",
       "        -0.70710678+0.j,  0.        +0.j,  0.        +0.j,\n",
       "         0.        +0.j,  0.        +0.j],\n",
       "       [ 0.        +0.j,  0.        +0.j,  0.        +0.j,\n",
       "         0.        +0.j,  0.        +0.j,  0.        +0.j,\n",
       "         0.70710678+0.j,  0.70710678+0.j],\n",
       "       [ 0.70710678+0.j, -0.70710678+0.j,  0.        +0.j,\n",
       "         0.        +0.j,  0.        +0.j,  0.        +0.j,\n",
       "         0.        +0.j,  0.        +0.j]])"
      ]
     },
     "execution_count": 9,
     "metadata": {},
     "output_type": "execute_result"
    }
   ],
   "source": [
    "from qiskit.quantum_info import Operator\n",
    "\n",
    "U = Operator(circ)\n",
    "\n",
    "# Show the results\n",
    "U.data"
   ]
  },
  {
   "cell_type": "markdown",
   "metadata": {},
   "source": [
    "## OpenQASM backend"
   ]
  },
  {
   "cell_type": "markdown",
   "metadata": {},
   "source": [
    "The simulators above are useful because they provide information about the state output by the ideal circuit and the matrix representation of the circuit. However, a real experiment terminates by _measuring_ each qubit (usually in the computational $|0\\rangle, |1\\rangle$ basis). Without measurement, we cannot gain information about the state. Measurements cause the quantum system to collapse into classical bits. \n",
    "\n",
    "For example, suppose we make independent measurements on each qubit of the three-qubit GHZ state\n",
    "\n",
    "$$|\\psi\\rangle = (|000\\rangle +|111\\rangle)/\\sqrt{2},$$\n",
    "\n",
    "and let $xyz$ denote the bitstring that results. Recall that, under the qubit labeling used by Qiskit, $x$ would correspond to the outcome on qubit 2, $y$ to the outcome on qubit 1, and $z$ to the outcome on qubit 0. \n",
    "\n",
    "<div class=\"alert alert-block alert-info\">\n",
    "<b>Note:</b> This representation of the bitstring puts the most significant bit (MSB) on the left, and the least significant bit (LSB) on the right. This is the standard ordering of binary bitstrings. We order the qubits in the same way (qubit representing the MSB has index 0), which is why Qiskit uses a non-standard tensor product order.\n",
    "</div>\n",
    "\n",
    "Recall the probability of obtaining outcome $xyz$ is given by\n",
    "\n",
    "$$\\mathrm{Pr}(xyz) = |\\langle xyz | \\psi \\rangle |^{2}$$\n",
    "\n",
    "and as such for the GHZ state probability of obtaining 000 or 111 are both 1/2.\n",
    "\n",
    "To simulate a circuit that includes measurement, we need to add measurements to the original circuit above, and use a different Aer backend.\n",
    "\n",
    "Đoạn văn trên giải thích về việc đo lường (measurement) trong tính toán lượng tử và cách nó ảnh hưởng đến trạng thái lượng tử. Dưới đây là các ý chính:\n",
    "\n",
    "1. Vai trò của đo lường trong tính toán lượng tử\n",
    "\n",
    "Mô phỏng lý tưởng: Các trình mô phỏng lượng tử (simulators) có thể cung cấp thông tin về trạng thái lượng tử đầu ra và ma trận biểu diễn của mạch lượng tử. Tuy nhiên, đây chỉ là mô phỏng lý tưởng.\n",
    "\n",
    "Thực nghiệm thực tế: Trong thực tế, để thu thập thông tin về trạng thái lượng tử, chúng ta phải thực hiện đo lường (measurement) trên các qubit.\n",
    "\n",
    "Hiệu ứng của đo lường: Khi đo lường, hệ lượng tử \"sụp đổ\" (collapse) từ trạng thái lượng tử sang trạng thái cổ điển (classical bits). Điều này có nghĩa là trạng thái lượng tử ban đầu không còn tồn tại sau khi đo.\n",
    "\n",
    "2. Ví dụ về trạng thái GHZ\n",
    "Trạng thái GHZ: $$|\\psi\\rangle = (|000\\rangle + |111\\rangle)/\\sqrt{2}$$ Đây là trạng thái lượng tử của 3 qubit, trong đó hệ thống có xác suất bằng nhau để ở trạng thái |000⟩ hoặc |111⟩.\n",
    "\n",
    "Đo lường từng qubit: Khi đo lường độc lập từng qubit trong trạng thái GHZ, kết quả sẽ là một chuỗi bit cổ điển (bitstring) $xyz$, trong đó:\n",
    "\n",
    "$x$: Kết quả đo trên qubit 2\n",
    "\n",
    "$y$: Kết quả đo trên qubit 1\n",
    "\n",
    "$z$: Kết quả đo trên qubit 0\n",
    "\n",
    "3. Quy ước thứ tự bit\n",
    "Bit quan trọng nhất (MSB): Trong biểu diễn bitstring, bit quan trọng nhất (MSB) nằm bên trái, và bit ít quan trọng nhất (LSB) nằm bên phải.\n",
    "Quy ước của Qiskit: Qiskit sử dụng thứ tự không chuẩn trong tensor product, trong đó qubit có chỉ số thấp hơn (index 0) đại diện cho MSB.\n",
    "\n",
    "4. Xác suất đo lường\n",
    "Công thức xác suất: Xác suất thu được bitstring $xyz$ khi đo trạng thái lượng tử được tính bằng: $$\\mathrm{Pr}(xyz) = |\\langle xyz | \\psi \\rangle |^{2}$$ Đây là bình phương của biên độ xác suất (amplitude) của trạng thái lượng tử.\n",
    "\n",
    "Trạng thái GHZ: Với trạng thái GHZ, xác suất đo được bitstring |000⟩ hoặc |111⟩ đều bằng $1/2$, vì chỉ hai trạng thái này có biên độ khác 0.\n",
    "\n",
    "5. Mô phỏng đo lường\n",
    "Thêm đo lường vào mạch: Để mô phỏng một mạch lượng tử có đo lường, cần thêm các phép đo vào mạch lượng tử.\n",
    "Aer backend: Khi mô phỏng mạch có đo lường, cần sử dụng một backend khác trong Qiskit, chẳng hạn như Aer, để xử lý việc đo lường và thu thập kết quả cổ điển.\n",
    "\n",
    "Tóm lại\n",
    "Đo lường là bước quan trọng trong tính toán lượng tử để chuyển trạng thái lượng tử thành thông tin cổ điển. Trạng thái GHZ là một ví dụ điển hình, trong đó việc đo lường sẽ dẫn đến kết quả bitstring |000⟩ hoặc |111⟩ với xác suất bằng nhau. Trong Qiskit, việc mô phỏng đo lường yêu cầu thêm phép đo vào mạch và sử dụng backend Aer để xử lý."
   ]
  },
  {
   "cell_type": "code",
   "execution_count": null,
   "metadata": {
    "ExecuteTime": {
     "end_time": "2019-08-10T11:37:45.840681Z",
     "start_time": "2019-08-10T11:37:45.627937Z"
    }
   },
   "outputs": [
    {
     "data": {
      "image/png": "[encoded data removed]",
      "text/plain": [
       "<Figure size 705.552x367.889 with 1 Axes>"
      ]
     },
     "execution_count": 10,
     "metadata": {},
     "output_type": "execute_result"
    }
   ],
   "source": [
    "# Create a Quantum Circuit\n",
    "#  Tạo một mạch lượng tử\n",
    "meas = QuantumCircuit(3, 3)\n",
    "# QuantumCircuit(3, 3) tạo một mạch lượng tử với 3 qubit và 3 bit cổ điển.\n",
    "# Các qubit sẽ được sử dụng để thực hiện các phép toán lượng tử, trong khi các bit cổ điển sẽ lưu trữ kết quả sau khi đo lường.\n",
    "\n",
    "meas.barrier(range(3))\n",
    "# Dòng lệnh meas.barrier(range(3)) trong Qiskit thêm một barrier (rào chắn) vào mạch lượng tử. \n",
    "# Đây là cách để đảm bảo rằng không có phép toán lượng tử nào được tối ưu hóa hoặc thay đổi thứ tự trước khi thực hiện các thao tác tiếp theo.\n",
    "# Ý nghĩa cụ thể:\n",
    "# range(3): Tạo một danh sách các qubit từ 0 đến 2 (tương ứng với 3 qubit trong mạch).\n",
    "# barrier: Thêm một rào chắn vào các qubit được chỉ định (ở đây là tất cả 3 qubit).\n",
    "# Công dụng của barrier:\n",
    "# Ngăn tối ưu hóa mạch: Trong quá trình biên dịch mạch lượng tử, các phép toán có thể được tối ưu hóa hoặc sắp xếp lại. Barrier đảm bảo rằng các phép toán trước và sau rào chắn không bị thay đổi thứ tự.\n",
    "# Tăng tính trực quan: Barrier giúp phân tách các phần khác nhau của mạch, làm cho mạch dễ đọc và dễ hiểu hơn.\n",
    "# Kiểm soát thứ tự thao tác: Đảm bảo rằng các thao tác trên qubit diễn ra theo đúng thứ tự mong muốn.\n",
    "# Ví dụ:\n",
    "# Nếu bạn thêm barrier trước khi đo lường, nó đảm bảo rằng tất cả các phép toán lượng tử đã hoàn thành trước khi thực hiện phép đo.\n",
    "\n",
    "# map the quantum measurement to the classical bits\n",
    "# ánh xạ phép đo lượng tử đến các bit cổ điển\n",
    "meas.measure(range(3), range(3))\n",
    "# Dòng lệnh meas.measure(range(3), range(3)) trong Qiskit thực hiện phép đo trên tất cả các qubit trong mạch lượng tử và lưu kết \n",
    "# quả vào các bit cổ điển tương ứng.\n",
    "# Giải thích chi tiết:\n",
    "# range(3): Tạo một danh sách các chỉ số từ 0 đến 2, tương ứng với 3 qubit và 3 bit cổ điển trong mạch.\n",
    "# measure(qubits, classical_bits): Phép đo lượng tử:\n",
    "# Đo trạng thái của các qubit được chỉ định.\n",
    "# Lưu kết quả đo vào các bit cổ điển tương ứng.\n",
    "# Kết quả:\n",
    "# Sau khi thực hiện phép đo, trạng thái lượng tử của các qubit sẽ \"sụp đổ\" (collapse) thành trạng thái cổ điển.\n",
    "# Các bit cổ điển sẽ chứa kết quả đo, ví dụ: nếu trạng thái lượng tử là |000⟩, thì các bit cổ điển sẽ lưu giá trị [0, 0, 0].\n",
    "\n",
    "# The Qiskit circuit object supports composition.\n",
    "# Here the meas has to be first and front=True (putting it before) \n",
    "# as compose must put a smaller circuit into a larger one.\n",
    "qc = meas.compose(circ, range(3), front=True)\n",
    "# Dòng lệnh qc = meas.compose(circ, range(3), front=True) trong Qiskit kết hợp hai mạch lượng tử (meas và circ) lại với nhau. Cụ thể:\n",
    "# Giải thích chi tiết:\n",
    "# meas: Đây là mạch lượng tử chứa các phép đo (đã được định nghĩa trước đó).\n",
    "# circ: Đây là mạch lượng tử khác, có thể chứa các phép toán lượng tử (đã được định nghĩa trước đó).\n",
    "# compose: Phương thức này kết hợp hai mạch lượng tử lại với nhau. Nó ghép các thao tác của mạch circ vào mạch meas.\n",
    "# range(3): Xác định rằng mạch circ sẽ được áp dụng lên 3 qubit đầu tiên của mạch meas.\n",
    "# front=True: Xác định rằng mạch circ sẽ được ghép vào phía trước mạch meas. Điều này có nghĩa là các thao tác trong circ sẽ được thực hiện trước, \n",
    "# sau đó mới đến các thao tác trong meas.\n",
    "# Kết quả:\n",
    "# Mạch lượng tử mới qc sẽ bao gồm:\n",
    "# Các thao tác trong mạch circ được thực hiện trước.\n",
    "# Các thao tác trong mạch meas (bao gồm đo lường) được thực hiện sau.\n",
    "\n",
    "#drawing the circuit\n",
    "qc.draw('mpl')"
   ]
  },
  {
   "cell_type": "markdown",
   "metadata": {},
   "source": [
    "This circuit adds a classical register, and three measurements that are used to map the outcome of qubits to the classical bits. \n",
    "\n",
    "To simulate this circuit, we use the ``qasm_simulator`` in Qiskit Aer. Each run of this circuit will yield either the bitstring 000 or 111. To build up statistics about the distribution of the bitstrings (to, e.g., estimate $\\mathrm{Pr}(000)$), we need to repeat the circuit many times. The number of times the circuit is repeated can be specified in the ``execute`` function, via the ``shots`` keyword.\n",
    "\n",
    "Đoạn văn trên giải thích cách thêm phép đo vào mạch lượng tử và cách mô phỏng mạch này để thu thập kết quả đo lường. Dưới đây là các ý chính:\n",
    "\n",
    "1. Thêm thanh ghi cổ điển và phép đo\n",
    "\n",
    "Thanh ghi cổ điển: Mạch lượng tử được thêm một thanh ghi cổ điển (classical register) để lưu trữ kết quả đo lường từ các qubit.\n",
    "Phép đo: Mỗi qubit được đo và kết quả của phép đo được ánh xạ (map) vào các bit cổ điển tương ứng. Điều này cho phép chuyển trạng thái lượng tử thành dữ liệu cổ điển.\n",
    "\n",
    "2. Mô phỏng mạch với Qiskit Aer\n",
    "\n",
    "Qasm Simulator: Đây là một backend trong Qiskit Aer, được sử dụng để mô phỏng mạch lượng tử có phép đo. Nó mô phỏng quá trình đo lường và trả về kết quả dưới dạng các bitstring cổ điển.\n",
    "Kết quả đo lường: Với trạng thái GHZ: $$|\\psi\\rangle = (|000\\rangle + |111\\rangle)/\\sqrt{2},$$ Kết quả đo lường sẽ chỉ là một trong hai bitstring:\n",
    "000 với xác suất 50%.\n",
    "111 với xác suất 50%.\n",
    "\n",
    "3. Thu thập thống kê\n",
    "\n",
    "Lặp lại mạch nhiều lần: Để ước tính xác suất của các bitstring (ví dụ: $\\mathrm{Pr}(000)$), cần chạy mạch nhiều lần. Mỗi lần chạy mạch sẽ trả về một bitstring.\n",
    "Số lần chạy (shots): Số lần chạy mạch được chỉ định thông qua tham số shots trong hàm execute. Ví dụ:\n",
    "Nếu shots=1000, mạch sẽ được chạy 1000 lần.\n",
    "Kết quả sẽ là một phân phối thống kê của các bitstring, từ đó có thể tính toán xác suất của từng bitstring.\n"
   ]
  },
  {
   "cell_type": "code",
   "execution_count": 18,
   "metadata": {
    "ExecuteTime": {
     "end_time": "2019-08-10T11:37:45.868074Z",
     "start_time": "2019-08-10T11:37:45.842666Z"
    }
   },
   "outputs": [],
   "source": [
    "# Adding the transpiler to reduce the circuit to QASM instructions\n",
    "# supported by the backend\n",
    "from qiskit import transpile \n",
    "\n",
    "# Use AerSimulator\n",
    "from qiskit_aer import AerSimulator\n",
    "\n",
    "backend = AerSimulator()\n",
    "\n",
    "# First we have to transpile the quantum circuit \n",
    "# to the low-level QASM instructions used by the \n",
    "# backend\n",
    "qc_compiled = transpile(qc, backend)\n",
    "# Dòng lệnh qc_compiled = transpile(qc, backend) trong Qiskit thực hiện quá trình transpile (biên dịch) mạch lượng \n",
    "# tử qc để chuẩn bị cho việc chạy trên một backend cụ thể.\n",
    "# Giải thích chi tiết:\n",
    "# 1. Transpile là gì?\n",
    "# Transpile là quá trình chuyển đổi mạch lượng tử từ dạng logic ban đầu sang dạng tối ưu hóa hoặc tương thích với một backend cụ thể.\n",
    "# Backend có thể là:\n",
    "# Mô phỏng (ví dụ: qasm_simulator).\n",
    "# Máy tính lượng tử thực tế (ví dụ: IBM Quantum hardware).\n",
    "# 2. Các bước transpile:\n",
    "# Tối ưu hóa mạch: Giảm số lượng cổng lượng tử hoặc thao tác để mạch chạy hiệu quả hơn.\n",
    "# Chuyển đổi cổng lượng tử: Đảm bảo rằng các cổng lượng tử trong mạch tương thích với các cổng hỗ trợ bởi backend. Ví dụ:\n",
    "# Một số backend chỉ hỗ trợ cổng CX và U3, nên các cổng khác sẽ được chuyển đổi sang dạng tương thích.\n",
    "# Ánh xạ qubit: Nếu backend là phần cứng lượng tử, quá trình transpile sẽ ánh xạ các qubit logic trong mạch sang các qubit vật lý trên thiết bị.\n",
    "# 3. Tham số trong lệnh:\n",
    "# qc: Mạch lượng tử cần được biên dịch.\n",
    "# backend: Backend mà mạch sẽ được biên dịch để chạy. Backend này có thể là:\n",
    "# Một trình mô phỏng (ví dụ: qasm_simulator).\n",
    "# Một máy tính lượng tử thực tế (ví dụ: ibmq_manila).\n",
    "# 4. Kết quả:\n",
    "# qc_compiled: Mạch lượng tử đã được biên dịch, tối ưu hóa và chuyển đổi để tương thích với backend. Mạch này có thể được chạy trực tiếp trên backend.\n",
    "\n",
    "# Execute the circuit on the qasm simulator.\n",
    "# We've set the number of repeats of the circuit\n",
    "# to be 1024, which is the default.\n",
    "job_sim = backend.run(qc_compiled, shots=1024)\n",
    "\n",
    "# Grab the results from the job.\n",
    "result_sim = job_sim.result()"
   ]
  },
  {
   "cell_type": "markdown",
   "metadata": {},
   "source": [
    "Once you have a result object, you can access the counts via the function `get_counts(circuit)`. This gives you the _aggregated_ binary outcomes of the circuit you submitted."
   ]
  },
  {
   "cell_type": "code",
   "execution_count": 19,
   "metadata": {
    "ExecuteTime": {
     "end_time": "2019-08-10T11:37:45.873600Z",
     "start_time": "2019-08-10T11:37:45.869929Z"
    }
   },
   "outputs": [
    {
     "name": "stdout",
     "output_type": "stream",
     "text": [
      "{'000': 508, '111': 516}\n"
     ]
    }
   ],
   "source": [
    "counts = result_sim.get_counts(qc_compiled)\n",
    "print(counts)"
   ]
  },
  {
   "cell_type": "markdown",
   "metadata": {},
   "source": [
    "Approximately 50 percent of the time, the output bitstring is 000. Qiskit also provides a function `plot_histogram`, which allows you to view the outcomes. \n",
    "\n",
    "Kết quả của đoạn mã trên cho thấy phân phối thống kê của các bitstring thu được sau khi chạy mạch lượng tử đã biên dịch (qc_compiled) trên trình mô phỏng (result_sim). Dưới đây là giải thích chi tiết:\n",
    "\n",
    "1. Ý nghĩa của get_counts\n",
    "result_sim.get_counts(qc_compiled): Phương thức này lấy kết quả đo lường từ mạch lượng tử đã chạy và trả về số lần xuất hiện của mỗi bitstring.\n",
    "Kết quả là một từ điển (dictionary), trong đó:\n",
    "Key: Các bitstring đo được (ví dụ: '000', '111').\n",
    "Value: Số lần bitstring đó xuất hiện trong các lần chạy mạch (shots).\n",
    "2. Kết quả đo lường\n",
    "Kết quả trả về:\n",
    "\n",
    "Bitstring '000': Xuất hiện 508 lần.\n",
    "\n",
    "Bitstring '111': Xuất hiện 516 lần."
   ]
  },
  {
   "cell_type": "code",
   "execution_count": 20,
   "metadata": {
    "ExecuteTime": {
     "end_time": "2019-08-10T11:37:45.991815Z",
     "start_time": "2019-08-10T11:37:45.875518Z"
    }
   },
   "outputs": [
    {
     "data": {
      "image/png": "[encoded data removed]",
      "text/plain": [
       "<Figure size 640x480 with 1 Axes>"
      ]
     },
     "execution_count": 20,
     "metadata": {},
     "output_type": "execute_result"
    }
   ],
   "source": [
    "from qiskit.visualization import plot_histogram\n",
    "plot_histogram(counts)"
   ]
  },
  {
   "cell_type": "markdown",
   "metadata": {},
   "source": [
    "The estimated outcome probabilities $\\mathrm{Pr}(000)$ and  $\\mathrm{Pr}(111)$ are computed by taking the aggregate counts and dividing by the number of shots (times the circuit was repeated). Try changing the ``shots`` keyword in the ``execute`` function and see how the estimated probabilities change."
   ]
  },
  {
   "cell_type": "code",
   "execution_count": null,
   "metadata": {},
   "outputs": [
    {
     "name": "stdout",
     "output_type": "stream",
     "text": [
      "Qiskit version: 2.0.2\n"
     ]
    }
   ],
   "source": [
    "import qiskit\n",
    "\n",
    "\n",
    "print(\"Qiskit version:\", qiskit.__version__)\n",
    "\n"
   ]
  }
 ],
 "metadata": {
  "anaconda-cloud": {},
  "celltoolbar": "Tags",
  "kernelspec": {
   "display_name": "qiskit_env",
   "language": "python",
   "name": "python3"
  },
  "language_info": {
   "codemirror_mode": {
    "name": "ipython",
    "version": 3
   },
   "file_extension": ".py",
   "mimetype": "text/x-python",
   "name": "python",
   "nbconvert_exporter": "python",
   "pygments_lexer": "ipython3",
   "version": "3.11.9"
  },
  "varInspector": {
   "cols": {
    "lenName": 16,
    "lenType": 16,
    "lenVar": 40
   },
   "kernels_config": {
    "python": {
     "delete_cmd_postfix": "",
     "delete_cmd_prefix": "del ",
     "library": "var_list.py",
     "varRefreshCmd": "print(var_dic_list())"
    },
    "r": {
     "delete_cmd_postfix": ") ",
     "delete_cmd_prefix": "rm(",
     "library": "var_list.r",
     "varRefreshCmd": "cat(var_dic_list()) "
    }
   },
   "types_to_exclude": [
    "module",
    "function",
    "builtin_function_or_method",
    "instance",
    "_Feature"
   ],
   "window_display": false
  }
 },
 "nbformat": 4,
 "nbformat_minor": 1
}
